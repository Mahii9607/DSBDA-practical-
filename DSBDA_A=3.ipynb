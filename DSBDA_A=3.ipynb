{
  "cells": [
    {
      "cell_type": "markdown",
      "metadata": {
        "id": "view-in-github",
        "colab_type": "text"
      },
      "source": [
        "<a href=\"https://colab.research.google.com/github/Mahii9607/DSBDA-practical-/blob/main/DSBDA_A%3D3.ipynb\" target=\"_parent\"><img src=\"https://colab.research.google.com/assets/colab-badge.svg\" alt=\"Open In Colab\"/></a>"
      ]
    },
    {
      "cell_type": "code",
      "execution_count": null,
      "id": "a5132be9",
      "metadata": {
        "id": "a5132be9"
      },
      "outputs": [],
      "source": [
        "import pandas as pd\n",
        "import numpy as np\n",
        "import matplotlib.pyplot as plt"
      ]
    },
    {
      "cell_type": "code",
      "execution_count": null,
      "id": "8d2ecc01",
      "metadata": {
        "id": "8d2ecc01"
      },
      "outputs": [],
      "source": [
        "df=pd.read_csv('C:/Users/dell/Downloads/Assign_3_Mall_Customers.csv')"
      ]
    },
    {
      "cell_type": "code",
      "execution_count": null,
      "id": "2d5e22b6",
      "metadata": {
        "id": "2d5e22b6"
      },
      "outputs": [],
      "source": [
        "df1=df\n",
        "df2=df1\n",
        "df3=df\n",
        "df4=df"
      ]
    },
    {
      "cell_type": "code",
      "execution_count": null,
      "id": "0a8c9753",
      "metadata": {
        "id": "0a8c9753",
        "outputId": "fd0fe1ca-38fa-4e8a-fe08-824a73a391ab"
      },
      "outputs": [
        {
          "data": {
            "text/html": [
              "<div>\n",
              "<style scoped>\n",
              "    .dataframe tbody tr th:only-of-type {\n",
              "        vertical-align: middle;\n",
              "    }\n",
              "\n",
              "    .dataframe tbody tr th {\n",
              "        vertical-align: top;\n",
              "    }\n",
              "\n",
              "    .dataframe thead th {\n",
              "        text-align: right;\n",
              "    }\n",
              "</style>\n",
              "<table border=\"1\" class=\"dataframe\">\n",
              "  <thead>\n",
              "    <tr style=\"text-align: right;\">\n",
              "      <th></th>\n",
              "      <th>CustomerID</th>\n",
              "      <th>Gender</th>\n",
              "      <th>Age Group</th>\n",
              "      <th>Age</th>\n",
              "      <th>Salary</th>\n",
              "      <th>Spending Score (1-100)</th>\n",
              "    </tr>\n",
              "  </thead>\n",
              "  <tbody>\n",
              "    <tr>\n",
              "      <th>0</th>\n",
              "      <td>1</td>\n",
              "      <td>Male</td>\n",
              "      <td>Teen</td>\n",
              "      <td>19</td>\n",
              "      <td>15</td>\n",
              "      <td>39</td>\n",
              "    </tr>\n",
              "    <tr>\n",
              "      <th>1</th>\n",
              "      <td>2</td>\n",
              "      <td>Male</td>\n",
              "      <td>Middle Age</td>\n",
              "      <td>21</td>\n",
              "      <td>15</td>\n",
              "      <td>81</td>\n",
              "    </tr>\n",
              "    <tr>\n",
              "      <th>2</th>\n",
              "      <td>3</td>\n",
              "      <td>Female</td>\n",
              "      <td>Middle Age</td>\n",
              "      <td>20</td>\n",
              "      <td>16</td>\n",
              "      <td>6</td>\n",
              "    </tr>\n",
              "    <tr>\n",
              "      <th>3</th>\n",
              "      <td>4</td>\n",
              "      <td>Female</td>\n",
              "      <td>Middle Age</td>\n",
              "      <td>23</td>\n",
              "      <td>16</td>\n",
              "      <td>77</td>\n",
              "    </tr>\n",
              "    <tr>\n",
              "      <th>4</th>\n",
              "      <td>5</td>\n",
              "      <td>Female</td>\n",
              "      <td>Middle Age</td>\n",
              "      <td>31</td>\n",
              "      <td>17</td>\n",
              "      <td>40</td>\n",
              "    </tr>\n",
              "    <tr>\n",
              "      <th>...</th>\n",
              "      <td>...</td>\n",
              "      <td>...</td>\n",
              "      <td>...</td>\n",
              "      <td>...</td>\n",
              "      <td>...</td>\n",
              "      <td>...</td>\n",
              "    </tr>\n",
              "    <tr>\n",
              "      <th>195</th>\n",
              "      <td>196</td>\n",
              "      <td>Female</td>\n",
              "      <td>Middle Age</td>\n",
              "      <td>35</td>\n",
              "      <td>120</td>\n",
              "      <td>79</td>\n",
              "    </tr>\n",
              "    <tr>\n",
              "      <th>196</th>\n",
              "      <td>197</td>\n",
              "      <td>Female</td>\n",
              "      <td>Elder</td>\n",
              "      <td>45</td>\n",
              "      <td>126</td>\n",
              "      <td>28</td>\n",
              "    </tr>\n",
              "    <tr>\n",
              "      <th>197</th>\n",
              "      <td>198</td>\n",
              "      <td>Male</td>\n",
              "      <td>Middle Age</td>\n",
              "      <td>32</td>\n",
              "      <td>126</td>\n",
              "      <td>74</td>\n",
              "    </tr>\n",
              "    <tr>\n",
              "      <th>198</th>\n",
              "      <td>199</td>\n",
              "      <td>Male</td>\n",
              "      <td>Middle Age</td>\n",
              "      <td>32</td>\n",
              "      <td>137</td>\n",
              "      <td>18</td>\n",
              "    </tr>\n",
              "    <tr>\n",
              "      <th>199</th>\n",
              "      <td>200</td>\n",
              "      <td>Male</td>\n",
              "      <td>Middle Age</td>\n",
              "      <td>30</td>\n",
              "      <td>137</td>\n",
              "      <td>83</td>\n",
              "    </tr>\n",
              "  </tbody>\n",
              "</table>\n",
              "<p>200 rows × 6 columns</p>\n",
              "</div>"
            ],
            "text/plain": [
              "     CustomerID  Gender   Age Group  Age  Salary  Spending Score (1-100)\n",
              "0             1    Male        Teen   19      15                      39\n",
              "1             2    Male  Middle Age   21      15                      81\n",
              "2             3  Female  Middle Age   20      16                       6\n",
              "3             4  Female  Middle Age   23      16                      77\n",
              "4             5  Female  Middle Age   31      17                      40\n",
              "..          ...     ...         ...  ...     ...                     ...\n",
              "195         196  Female  Middle Age   35     120                      79\n",
              "196         197  Female       Elder   45     126                      28\n",
              "197         198    Male  Middle Age   32     126                      74\n",
              "198         199    Male  Middle Age   32     137                      18\n",
              "199         200    Male  Middle Age   30     137                      83\n",
              "\n",
              "[200 rows x 6 columns]"
            ]
          },
          "execution_count": 65,
          "metadata": {},
          "output_type": "execute_result"
        }
      ],
      "source": [
        "df"
      ]
    },
    {
      "cell_type": "code",
      "execution_count": null,
      "id": "ac5610db",
      "metadata": {
        "id": "ac5610db",
        "outputId": "1abb15d1-dd1b-4446-e46c-d348b7718d7c"
      },
      "outputs": [
        {
          "data": {
            "text/plain": [
              "Index(['CustomerID', 'Gender', 'Age Group', 'Age', 'Salary',\n",
              "       'Spending Score (1-100)'],\n",
              "      dtype='object')"
            ]
          },
          "execution_count": 66,
          "metadata": {},
          "output_type": "execute_result"
        }
      ],
      "source": [
        "df.columns"
      ]
    },
    {
      "cell_type": "code",
      "execution_count": null,
      "id": "d2311b86",
      "metadata": {
        "id": "d2311b86",
        "outputId": "dfcc001f-0931-408c-a596-edae6c9a1697"
      },
      "outputs": [
        {
          "name": "stdout",
          "output_type": "stream",
          "text": [
            "60.56\n"
          ]
        }
      ],
      "source": [
        "print(df['Salary'].mean())"
      ]
    },
    {
      "cell_type": "code",
      "execution_count": null,
      "id": "43e22a92",
      "metadata": {
        "id": "43e22a92",
        "outputId": "71c857d6-7d67-40c6-9461-a62f3841d62a"
      },
      "outputs": [
        {
          "name": "stdout",
          "output_type": "stream",
          "text": [
            "0    54\n",
            "1    78\n",
            "Name: Salary, dtype: int64\n"
          ]
        }
      ],
      "source": [
        "print(df['Salary'].mode())"
      ]
    },
    {
      "cell_type": "code",
      "execution_count": null,
      "id": "8ec3d0ab",
      "metadata": {
        "id": "8ec3d0ab",
        "outputId": "a667ca24-c558-4116-dfdd-7f1f59e3f378"
      },
      "outputs": [
        {
          "name": "stdout",
          "output_type": "stream",
          "text": [
            "61.5\n"
          ]
        }
      ],
      "source": [
        "print(df['Salary'].median())"
      ]
    },
    {
      "cell_type": "code",
      "execution_count": null,
      "id": "b3371013",
      "metadata": {
        "id": "b3371013",
        "outputId": "683e25ab-ceda-43ba-828f-f55be7eb0ce4"
      },
      "outputs": [
        {
          "name": "stdout",
          "output_type": "stream",
          "text": [
            "100.5\n"
          ]
        }
      ],
      "source": [
        "print(df['CustomerID'].mean())"
      ]
    },
    {
      "cell_type": "code",
      "execution_count": null,
      "id": "8c7cf63c",
      "metadata": {
        "id": "8c7cf63c",
        "outputId": "bfac0919-342c-4bcd-8ff2-5c791f4e9899"
      },
      "outputs": [
        {
          "name": "stdout",
          "output_type": "stream",
          "text": [
            "0        1\n",
            "1        2\n",
            "2        3\n",
            "3        4\n",
            "4        5\n",
            "      ... \n",
            "195    196\n",
            "196    197\n",
            "197    198\n",
            "198    199\n",
            "199    200\n",
            "Name: CustomerID, Length: 200, dtype: int64\n"
          ]
        }
      ],
      "source": [
        "print(df['CustomerID'].mode())"
      ]
    },
    {
      "cell_type": "code",
      "execution_count": null,
      "id": "04f51439",
      "metadata": {
        "id": "04f51439",
        "outputId": "f0f0fdf7-c563-4b7f-f2cc-751e573530b3"
      },
      "outputs": [
        {
          "name": "stdout",
          "output_type": "stream",
          "text": [
            "100.5\n"
          ]
        }
      ],
      "source": [
        "print(df['CustomerID'].median())"
      ]
    },
    {
      "cell_type": "code",
      "execution_count": null,
      "id": "4cfacd4d",
      "metadata": {
        "id": "4cfacd4d",
        "outputId": "0d5a6a80-bf00-4711-ec60-af7b33fb8083"
      },
      "outputs": [
        {
          "name": "stdout",
          "output_type": "stream",
          "text": [
            "0    Female\n",
            "Name: Gender, dtype: object\n"
          ]
        }
      ],
      "source": [
        "print(df['Gender'].mode())"
      ]
    },
    {
      "cell_type": "code",
      "execution_count": null,
      "id": "10975ab6",
      "metadata": {
        "id": "10975ab6",
        "outputId": "b0f59104-98fd-4886-b9a3-55149ac7efaf"
      },
      "outputs": [
        {
          "name": "stdout",
          "output_type": "stream",
          "text": [
            "0    Middle Age\n",
            "Name: Age Group, dtype: object\n"
          ]
        }
      ],
      "source": [
        "print(df['Age Group'].mode())"
      ]
    },
    {
      "cell_type": "code",
      "execution_count": null,
      "id": "4a2fb1fb",
      "metadata": {
        "id": "4a2fb1fb",
        "outputId": "a2553908-9096-4841-8ba7-d3e4c82ed884"
      },
      "outputs": [
        {
          "name": "stdout",
          "output_type": "stream",
          "text": [
            "38.85\n"
          ]
        }
      ],
      "source": [
        "print(df['Age'].mean())"
      ]
    },
    {
      "cell_type": "code",
      "execution_count": null,
      "id": "eaf2e715",
      "metadata": {
        "id": "eaf2e715",
        "outputId": "f5ff884f-2389-49cf-b3a3-a8a242085a3e"
      },
      "outputs": [
        {
          "name": "stdout",
          "output_type": "stream",
          "text": [
            "0    32\n",
            "Name: Age, dtype: int64\n"
          ]
        }
      ],
      "source": [
        "print(df['Age'].mode())"
      ]
    },
    {
      "cell_type": "code",
      "execution_count": null,
      "id": "87536fb0",
      "metadata": {
        "id": "87536fb0",
        "outputId": "ea608fee-e4ef-4136-ea54-08b7a7643bfc"
      },
      "outputs": [
        {
          "name": "stdout",
          "output_type": "stream",
          "text": [
            "36.0\n"
          ]
        }
      ],
      "source": [
        "print(df['Age'].median())"
      ]
    },
    {
      "cell_type": "code",
      "execution_count": null,
      "id": "78c21e09",
      "metadata": {
        "id": "78c21e09",
        "outputId": "b5ed98ee-8bf1-4594-9f24-02e2338c06dd"
      },
      "outputs": [
        {
          "name": "stdout",
          "output_type": "stream",
          "text": [
            "50.2\n"
          ]
        }
      ],
      "source": [
        "print(df['Spending Score (1-100)'].mean())"
      ]
    },
    {
      "cell_type": "code",
      "execution_count": null,
      "id": "ed836d66",
      "metadata": {
        "id": "ed836d66",
        "outputId": "fa10ab60-a3fc-423b-e795-b3c4140ca91c"
      },
      "outputs": [
        {
          "name": "stdout",
          "output_type": "stream",
          "text": [
            "0    42\n",
            "Name: Spending Score (1-100), dtype: int64\n"
          ]
        }
      ],
      "source": [
        "print(df['Spending Score (1-100)'].mode())"
      ]
    },
    {
      "cell_type": "code",
      "execution_count": null,
      "id": "792372c1",
      "metadata": {
        "id": "792372c1",
        "outputId": "5fdc3224-02b1-498e-ceeb-17def7702e76"
      },
      "outputs": [
        {
          "name": "stdout",
          "output_type": "stream",
          "text": [
            "50.0\n"
          ]
        }
      ],
      "source": [
        "print(df['Spending Score (1-100)'].median())"
      ]
    },
    {
      "cell_type": "code",
      "execution_count": null,
      "id": "2e6f8867",
      "metadata": {
        "id": "2e6f8867",
        "outputId": "3df2b9c6-099a-46e1-83b6-caf50e36aa3f"
      },
      "outputs": [
        {
          "data": {
            "text/plain": [
              "0        1\n",
              "1        2\n",
              "2        3\n",
              "3        4\n",
              "4        5\n",
              "      ... \n",
              "195    196\n",
              "196    197\n",
              "197    198\n",
              "198    199\n",
              "199    200\n",
              "Name: CustomerID, Length: 200, dtype: int64"
            ]
          },
          "execution_count": 81,
          "metadata": {},
          "output_type": "execute_result"
        }
      ],
      "source": [
        "df['CustomerID']"
      ]
    },
    {
      "cell_type": "code",
      "execution_count": null,
      "id": "a3c61e3e",
      "metadata": {
        "id": "a3c61e3e",
        "outputId": "953c9e8a-ea5f-4d83-ea34-c1e630389a30"
      },
      "outputs": [
        {
          "data": {
            "text/plain": [
              "0        Male\n",
              "1        Male\n",
              "2      Female\n",
              "3      Female\n",
              "4      Female\n",
              "        ...  \n",
              "195    Female\n",
              "196    Female\n",
              "197      Male\n",
              "198      Male\n",
              "199      Male\n",
              "Name: Gender, Length: 200, dtype: object"
            ]
          },
          "execution_count": 82,
          "metadata": {},
          "output_type": "execute_result"
        }
      ],
      "source": [
        "df['Gender']"
      ]
    },
    {
      "cell_type": "code",
      "execution_count": null,
      "id": "997bb2bf",
      "metadata": {
        "id": "997bb2bf",
        "outputId": "c17b3651-e118-4e94-c9a0-1c99d3b0ae4f"
      },
      "outputs": [
        {
          "data": {
            "text/plain": [
              "0            Teen\n",
              "1      Middle Age\n",
              "2      Middle Age\n",
              "3      Middle Age\n",
              "4      Middle Age\n",
              "          ...    \n",
              "195    Middle Age\n",
              "196         Elder\n",
              "197    Middle Age\n",
              "198    Middle Age\n",
              "199    Middle Age\n",
              "Name: Age Group, Length: 200, dtype: object"
            ]
          },
          "execution_count": 83,
          "metadata": {},
          "output_type": "execute_result"
        }
      ],
      "source": [
        "df['Age Group']"
      ]
    },
    {
      "cell_type": "code",
      "execution_count": null,
      "id": "2717f589",
      "metadata": {
        "id": "2717f589",
        "outputId": "e534eeb0-cfaf-4c5d-e6a7-890b32efb11d"
      },
      "outputs": [
        {
          "data": {
            "text/plain": [
              "0      19\n",
              "1      21\n",
              "2      20\n",
              "3      23\n",
              "4      31\n",
              "       ..\n",
              "195    35\n",
              "196    45\n",
              "197    32\n",
              "198    32\n",
              "199    30\n",
              "Name: Age, Length: 200, dtype: int64"
            ]
          },
          "execution_count": 84,
          "metadata": {},
          "output_type": "execute_result"
        }
      ],
      "source": [
        "df['Age']"
      ]
    },
    {
      "cell_type": "code",
      "execution_count": null,
      "id": "7d2713b9",
      "metadata": {
        "id": "7d2713b9",
        "outputId": "4051b7a1-ad90-4ddd-861c-8e3dd77d6490"
      },
      "outputs": [
        {
          "data": {
            "text/plain": [
              "0       15\n",
              "1       15\n",
              "2       16\n",
              "3       16\n",
              "4       17\n",
              "      ... \n",
              "195    120\n",
              "196    126\n",
              "197    126\n",
              "198    137\n",
              "199    137\n",
              "Name: Salary, Length: 200, dtype: int64"
            ]
          },
          "execution_count": 85,
          "metadata": {},
          "output_type": "execute_result"
        }
      ],
      "source": [
        "df['Salary']"
      ]
    },
    {
      "cell_type": "code",
      "execution_count": null,
      "id": "ca503190",
      "metadata": {
        "id": "ca503190",
        "outputId": "cd59f09d-75d0-4380-fce6-cb997568e854"
      },
      "outputs": [
        {
          "data": {
            "text/plain": [
              "0      39\n",
              "1      81\n",
              "2       6\n",
              "3      77\n",
              "4      40\n",
              "       ..\n",
              "195    79\n",
              "196    28\n",
              "197    74\n",
              "198    18\n",
              "199    83\n",
              "Name: Spending Score (1-100), Length: 200, dtype: int64"
            ]
          },
          "execution_count": 86,
          "metadata": {},
          "output_type": "execute_result"
        }
      ],
      "source": [
        "df['Spending Score (1-100)']"
      ]
    },
    {
      "cell_type": "code",
      "execution_count": null,
      "id": "cf5ed0bc",
      "metadata": {
        "id": "cf5ed0bc",
        "outputId": "4e994193-b30c-4ad6-8cc8-dead7fe7d53f"
      },
      "outputs": [
        {
          "data": {
            "text/html": [
              "<div>\n",
              "<style scoped>\n",
              "    .dataframe tbody tr th:only-of-type {\n",
              "        vertical-align: middle;\n",
              "    }\n",
              "\n",
              "    .dataframe tbody tr th {\n",
              "        vertical-align: top;\n",
              "    }\n",
              "\n",
              "    .dataframe thead th {\n",
              "        text-align: right;\n",
              "    }\n",
              "</style>\n",
              "<table border=\"1\" class=\"dataframe\">\n",
              "  <thead>\n",
              "    <tr style=\"text-align: right;\">\n",
              "      <th></th>\n",
              "      <th>CustomerID</th>\n",
              "      <th>Gender</th>\n",
              "      <th>Age Group</th>\n",
              "      <th>Age</th>\n",
              "      <th>Salary</th>\n",
              "      <th>Spending Score (1-100)</th>\n",
              "    </tr>\n",
              "  </thead>\n",
              "  <tbody>\n",
              "    <tr>\n",
              "      <th>0</th>\n",
              "      <td>False</td>\n",
              "      <td>False</td>\n",
              "      <td>False</td>\n",
              "      <td>False</td>\n",
              "      <td>False</td>\n",
              "      <td>False</td>\n",
              "    </tr>\n",
              "    <tr>\n",
              "      <th>1</th>\n",
              "      <td>False</td>\n",
              "      <td>False</td>\n",
              "      <td>False</td>\n",
              "      <td>False</td>\n",
              "      <td>False</td>\n",
              "      <td>False</td>\n",
              "    </tr>\n",
              "    <tr>\n",
              "      <th>2</th>\n",
              "      <td>False</td>\n",
              "      <td>False</td>\n",
              "      <td>False</td>\n",
              "      <td>False</td>\n",
              "      <td>False</td>\n",
              "      <td>False</td>\n",
              "    </tr>\n",
              "    <tr>\n",
              "      <th>3</th>\n",
              "      <td>False</td>\n",
              "      <td>False</td>\n",
              "      <td>False</td>\n",
              "      <td>False</td>\n",
              "      <td>False</td>\n",
              "      <td>False</td>\n",
              "    </tr>\n",
              "    <tr>\n",
              "      <th>4</th>\n",
              "      <td>False</td>\n",
              "      <td>False</td>\n",
              "      <td>False</td>\n",
              "      <td>False</td>\n",
              "      <td>False</td>\n",
              "      <td>False</td>\n",
              "    </tr>\n",
              "    <tr>\n",
              "      <th>...</th>\n",
              "      <td>...</td>\n",
              "      <td>...</td>\n",
              "      <td>...</td>\n",
              "      <td>...</td>\n",
              "      <td>...</td>\n",
              "      <td>...</td>\n",
              "    </tr>\n",
              "    <tr>\n",
              "      <th>195</th>\n",
              "      <td>False</td>\n",
              "      <td>False</td>\n",
              "      <td>False</td>\n",
              "      <td>False</td>\n",
              "      <td>False</td>\n",
              "      <td>False</td>\n",
              "    </tr>\n",
              "    <tr>\n",
              "      <th>196</th>\n",
              "      <td>False</td>\n",
              "      <td>False</td>\n",
              "      <td>False</td>\n",
              "      <td>False</td>\n",
              "      <td>False</td>\n",
              "      <td>False</td>\n",
              "    </tr>\n",
              "    <tr>\n",
              "      <th>197</th>\n",
              "      <td>False</td>\n",
              "      <td>False</td>\n",
              "      <td>False</td>\n",
              "      <td>False</td>\n",
              "      <td>False</td>\n",
              "      <td>False</td>\n",
              "    </tr>\n",
              "    <tr>\n",
              "      <th>198</th>\n",
              "      <td>False</td>\n",
              "      <td>False</td>\n",
              "      <td>False</td>\n",
              "      <td>False</td>\n",
              "      <td>False</td>\n",
              "      <td>False</td>\n",
              "    </tr>\n",
              "    <tr>\n",
              "      <th>199</th>\n",
              "      <td>False</td>\n",
              "      <td>False</td>\n",
              "      <td>False</td>\n",
              "      <td>False</td>\n",
              "      <td>False</td>\n",
              "      <td>False</td>\n",
              "    </tr>\n",
              "  </tbody>\n",
              "</table>\n",
              "<p>200 rows × 6 columns</p>\n",
              "</div>"
            ],
            "text/plain": [
              "     CustomerID  Gender  Age Group    Age  Salary  Spending Score (1-100)\n",
              "0         False   False      False  False   False                   False\n",
              "1         False   False      False  False   False                   False\n",
              "2         False   False      False  False   False                   False\n",
              "3         False   False      False  False   False                   False\n",
              "4         False   False      False  False   False                   False\n",
              "..          ...     ...        ...    ...     ...                     ...\n",
              "195       False   False      False  False   False                   False\n",
              "196       False   False      False  False   False                   False\n",
              "197       False   False      False  False   False                   False\n",
              "198       False   False      False  False   False                   False\n",
              "199       False   False      False  False   False                   False\n",
              "\n",
              "[200 rows x 6 columns]"
            ]
          },
          "execution_count": 87,
          "metadata": {},
          "output_type": "execute_result"
        }
      ],
      "source": [
        "df.isnull()"
      ]
    },
    {
      "cell_type": "code",
      "execution_count": null,
      "id": "57e87b15",
      "metadata": {
        "id": "57e87b15",
        "outputId": "0fb7ec7a-0262-4223-e157-28c5cb75c742"
      },
      "outputs": [
        {
          "data": {
            "text/plain": [
              "CustomerID                0\n",
              "Gender                    0\n",
              "Age Group                 0\n",
              "Age                       0\n",
              "Salary                    0\n",
              "Spending Score (1-100)    0\n",
              "dtype: int64"
            ]
          },
          "execution_count": 88,
          "metadata": {},
          "output_type": "execute_result"
        }
      ],
      "source": [
        "df.isnull().sum()"
      ]
    },
    {
      "cell_type": "code",
      "execution_count": null,
      "id": "53903062",
      "metadata": {
        "id": "53903062",
        "outputId": "ed3ce350-0491-45bb-9603-2b6f262d07d3"
      },
      "outputs": [
        {
          "data": {
            "text/html": [
              "<div>\n",
              "<style scoped>\n",
              "    .dataframe tbody tr th:only-of-type {\n",
              "        vertical-align: middle;\n",
              "    }\n",
              "\n",
              "    .dataframe tbody tr th {\n",
              "        vertical-align: top;\n",
              "    }\n",
              "\n",
              "    .dataframe thead th {\n",
              "        text-align: right;\n",
              "    }\n",
              "</style>\n",
              "<table border=\"1\" class=\"dataframe\">\n",
              "  <thead>\n",
              "    <tr style=\"text-align: right;\">\n",
              "      <th></th>\n",
              "      <th>CustomerID</th>\n",
              "      <th>Age</th>\n",
              "      <th>Salary</th>\n",
              "      <th>Spending Score (1-100)</th>\n",
              "    </tr>\n",
              "  </thead>\n",
              "  <tbody>\n",
              "    <tr>\n",
              "      <th>count</th>\n",
              "      <td>200.000000</td>\n",
              "      <td>200.000000</td>\n",
              "      <td>200.000000</td>\n",
              "      <td>200.000000</td>\n",
              "    </tr>\n",
              "    <tr>\n",
              "      <th>mean</th>\n",
              "      <td>100.500000</td>\n",
              "      <td>38.850000</td>\n",
              "      <td>60.560000</td>\n",
              "      <td>50.200000</td>\n",
              "    </tr>\n",
              "    <tr>\n",
              "      <th>std</th>\n",
              "      <td>57.879185</td>\n",
              "      <td>13.969007</td>\n",
              "      <td>26.264721</td>\n",
              "      <td>25.823522</td>\n",
              "    </tr>\n",
              "    <tr>\n",
              "      <th>min</th>\n",
              "      <td>1.000000</td>\n",
              "      <td>18.000000</td>\n",
              "      <td>15.000000</td>\n",
              "      <td>1.000000</td>\n",
              "    </tr>\n",
              "    <tr>\n",
              "      <th>25%</th>\n",
              "      <td>50.750000</td>\n",
              "      <td>28.750000</td>\n",
              "      <td>41.500000</td>\n",
              "      <td>34.750000</td>\n",
              "    </tr>\n",
              "    <tr>\n",
              "      <th>50%</th>\n",
              "      <td>100.500000</td>\n",
              "      <td>36.000000</td>\n",
              "      <td>61.500000</td>\n",
              "      <td>50.000000</td>\n",
              "    </tr>\n",
              "    <tr>\n",
              "      <th>75%</th>\n",
              "      <td>150.250000</td>\n",
              "      <td>49.000000</td>\n",
              "      <td>78.000000</td>\n",
              "      <td>73.000000</td>\n",
              "    </tr>\n",
              "    <tr>\n",
              "      <th>max</th>\n",
              "      <td>200.000000</td>\n",
              "      <td>70.000000</td>\n",
              "      <td>137.000000</td>\n",
              "      <td>99.000000</td>\n",
              "    </tr>\n",
              "  </tbody>\n",
              "</table>\n",
              "</div>"
            ],
            "text/plain": [
              "       CustomerID         Age      Salary  Spending Score (1-100)\n",
              "count  200.000000  200.000000  200.000000              200.000000\n",
              "mean   100.500000   38.850000   60.560000               50.200000\n",
              "std     57.879185   13.969007   26.264721               25.823522\n",
              "min      1.000000   18.000000   15.000000                1.000000\n",
              "25%     50.750000   28.750000   41.500000               34.750000\n",
              "50%    100.500000   36.000000   61.500000               50.000000\n",
              "75%    150.250000   49.000000   78.000000               73.000000\n",
              "max    200.000000   70.000000  137.000000               99.000000"
            ]
          },
          "execution_count": 89,
          "metadata": {},
          "output_type": "execute_result"
        }
      ],
      "source": [
        "df.describe()"
      ]
    },
    {
      "cell_type": "code",
      "execution_count": null,
      "id": "a06157ff",
      "metadata": {
        "id": "a06157ff",
        "outputId": "c4a0a03c-01d9-410c-8c4d-aed2ee66c4bf"
      },
      "outputs": [
        {
          "data": {
            "text/html": [
              "<div>\n",
              "<style scoped>\n",
              "    .dataframe tbody tr th:only-of-type {\n",
              "        vertical-align: middle;\n",
              "    }\n",
              "\n",
              "    .dataframe tbody tr th {\n",
              "        vertical-align: top;\n",
              "    }\n",
              "\n",
              "    .dataframe thead th {\n",
              "        text-align: right;\n",
              "    }\n",
              "</style>\n",
              "<table border=\"1\" class=\"dataframe\">\n",
              "  <thead>\n",
              "    <tr style=\"text-align: right;\">\n",
              "      <th></th>\n",
              "      <th>CustomerID</th>\n",
              "      <th>Gender</th>\n",
              "      <th>Age Group</th>\n",
              "      <th>Age</th>\n",
              "      <th>Salary</th>\n",
              "      <th>Spending Score (1-100)</th>\n",
              "    </tr>\n",
              "  </thead>\n",
              "  <tbody>\n",
              "    <tr>\n",
              "      <th>0</th>\n",
              "      <td>1</td>\n",
              "      <td>Male</td>\n",
              "      <td>Teen</td>\n",
              "      <td>19</td>\n",
              "      <td>15</td>\n",
              "      <td>39</td>\n",
              "    </tr>\n",
              "    <tr>\n",
              "      <th>1</th>\n",
              "      <td>2</td>\n",
              "      <td>Male</td>\n",
              "      <td>Middle Age</td>\n",
              "      <td>21</td>\n",
              "      <td>15</td>\n",
              "      <td>81</td>\n",
              "    </tr>\n",
              "    <tr>\n",
              "      <th>2</th>\n",
              "      <td>3</td>\n",
              "      <td>Female</td>\n",
              "      <td>Middle Age</td>\n",
              "      <td>20</td>\n",
              "      <td>16</td>\n",
              "      <td>6</td>\n",
              "    </tr>\n",
              "    <tr>\n",
              "      <th>3</th>\n",
              "      <td>4</td>\n",
              "      <td>Female</td>\n",
              "      <td>Middle Age</td>\n",
              "      <td>23</td>\n",
              "      <td>16</td>\n",
              "      <td>77</td>\n",
              "    </tr>\n",
              "    <tr>\n",
              "      <th>4</th>\n",
              "      <td>5</td>\n",
              "      <td>Female</td>\n",
              "      <td>Middle Age</td>\n",
              "      <td>31</td>\n",
              "      <td>17</td>\n",
              "      <td>40</td>\n",
              "    </tr>\n",
              "  </tbody>\n",
              "</table>\n",
              "</div>"
            ],
            "text/plain": [
              "   CustomerID  Gender   Age Group  Age  Salary  Spending Score (1-100)\n",
              "0           1    Male        Teen   19      15                      39\n",
              "1           2    Male  Middle Age   21      15                      81\n",
              "2           3  Female  Middle Age   20      16                       6\n",
              "3           4  Female  Middle Age   23      16                      77\n",
              "4           5  Female  Middle Age   31      17                      40"
            ]
          },
          "execution_count": 90,
          "metadata": {},
          "output_type": "execute_result"
        }
      ],
      "source": [
        "df2.head()"
      ]
    },
    {
      "cell_type": "code",
      "execution_count": null,
      "id": "b2c01dd9",
      "metadata": {
        "id": "b2c01dd9",
        "outputId": "0b1321dc-70ee-41d7-9518-df1c96a2cf72"
      },
      "outputs": [
        {
          "data": {
            "text/html": [
              "<div>\n",
              "<style scoped>\n",
              "    .dataframe tbody tr th:only-of-type {\n",
              "        vertical-align: middle;\n",
              "    }\n",
              "\n",
              "    .dataframe tbody tr th {\n",
              "        vertical-align: top;\n",
              "    }\n",
              "\n",
              "    .dataframe thead th {\n",
              "        text-align: right;\n",
              "    }\n",
              "</style>\n",
              "<table border=\"1\" class=\"dataframe\">\n",
              "  <thead>\n",
              "    <tr style=\"text-align: right;\">\n",
              "      <th></th>\n",
              "      <th>CustomerID</th>\n",
              "      <th>Gender</th>\n",
              "      <th>Age Group</th>\n",
              "      <th>Age</th>\n",
              "      <th>Salary</th>\n",
              "      <th>Spending Score (1-100)</th>\n",
              "    </tr>\n",
              "  </thead>\n",
              "  <tbody>\n",
              "    <tr>\n",
              "      <th>0</th>\n",
              "      <td>1</td>\n",
              "      <td>Male</td>\n",
              "      <td>Teen</td>\n",
              "      <td>19</td>\n",
              "      <td>15</td>\n",
              "      <td>39</td>\n",
              "    </tr>\n",
              "    <tr>\n",
              "      <th>1</th>\n",
              "      <td>2</td>\n",
              "      <td>Male</td>\n",
              "      <td>Middle Age</td>\n",
              "      <td>21</td>\n",
              "      <td>15</td>\n",
              "      <td>81</td>\n",
              "    </tr>\n",
              "    <tr>\n",
              "      <th>2</th>\n",
              "      <td>3</td>\n",
              "      <td>Female</td>\n",
              "      <td>Middle Age</td>\n",
              "      <td>20</td>\n",
              "      <td>16</td>\n",
              "      <td>6</td>\n",
              "    </tr>\n",
              "    <tr>\n",
              "      <th>3</th>\n",
              "      <td>4</td>\n",
              "      <td>Female</td>\n",
              "      <td>Middle Age</td>\n",
              "      <td>23</td>\n",
              "      <td>16</td>\n",
              "      <td>77</td>\n",
              "    </tr>\n",
              "    <tr>\n",
              "      <th>4</th>\n",
              "      <td>5</td>\n",
              "      <td>Female</td>\n",
              "      <td>Middle Age</td>\n",
              "      <td>31</td>\n",
              "      <td>17</td>\n",
              "      <td>40</td>\n",
              "    </tr>\n",
              "  </tbody>\n",
              "</table>\n",
              "</div>"
            ],
            "text/plain": [
              "   CustomerID  Gender   Age Group  Age  Salary  Spending Score (1-100)\n",
              "0           1    Male        Teen   19      15                      39\n",
              "1           2    Male  Middle Age   21      15                      81\n",
              "2           3  Female  Middle Age   20      16                       6\n",
              "3           4  Female  Middle Age   23      16                      77\n",
              "4           5  Female  Middle Age   31      17                      40"
            ]
          },
          "execution_count": 91,
          "metadata": {},
          "output_type": "execute_result"
        }
      ],
      "source": [
        "df1.head()"
      ]
    },
    {
      "cell_type": "code",
      "execution_count": null,
      "id": "da0f648e",
      "metadata": {
        "id": "da0f648e",
        "outputId": "ab2d43ac-044f-4382-fc5f-ccee23b4d4c3"
      },
      "outputs": [
        {
          "data": {
            "text/html": [
              "<div>\n",
              "<style scoped>\n",
              "    .dataframe tbody tr th:only-of-type {\n",
              "        vertical-align: middle;\n",
              "    }\n",
              "\n",
              "    .dataframe tbody tr th {\n",
              "        vertical-align: top;\n",
              "    }\n",
              "\n",
              "    .dataframe thead th {\n",
              "        text-align: right;\n",
              "    }\n",
              "</style>\n",
              "<table border=\"1\" class=\"dataframe\">\n",
              "  <thead>\n",
              "    <tr style=\"text-align: right;\">\n",
              "      <th></th>\n",
              "      <th>CustomerID</th>\n",
              "      <th>Gender</th>\n",
              "      <th>Age Group</th>\n",
              "      <th>Age</th>\n",
              "      <th>Salary</th>\n",
              "      <th>Spending Score (1-100)</th>\n",
              "    </tr>\n",
              "  </thead>\n",
              "  <tbody>\n",
              "    <tr>\n",
              "      <th>0</th>\n",
              "      <td>1</td>\n",
              "      <td>Male</td>\n",
              "      <td>Teen</td>\n",
              "      <td>19</td>\n",
              "      <td>15</td>\n",
              "      <td>39</td>\n",
              "    </tr>\n",
              "    <tr>\n",
              "      <th>1</th>\n",
              "      <td>2</td>\n",
              "      <td>Male</td>\n",
              "      <td>Middle Age</td>\n",
              "      <td>21</td>\n",
              "      <td>15</td>\n",
              "      <td>81</td>\n",
              "    </tr>\n",
              "    <tr>\n",
              "      <th>2</th>\n",
              "      <td>3</td>\n",
              "      <td>Female</td>\n",
              "      <td>Middle Age</td>\n",
              "      <td>20</td>\n",
              "      <td>16</td>\n",
              "      <td>6</td>\n",
              "    </tr>\n",
              "    <tr>\n",
              "      <th>3</th>\n",
              "      <td>4</td>\n",
              "      <td>Female</td>\n",
              "      <td>Middle Age</td>\n",
              "      <td>23</td>\n",
              "      <td>16</td>\n",
              "      <td>77</td>\n",
              "    </tr>\n",
              "    <tr>\n",
              "      <th>4</th>\n",
              "      <td>5</td>\n",
              "      <td>Female</td>\n",
              "      <td>Middle Age</td>\n",
              "      <td>31</td>\n",
              "      <td>17</td>\n",
              "      <td>40</td>\n",
              "    </tr>\n",
              "  </tbody>\n",
              "</table>\n",
              "</div>"
            ],
            "text/plain": [
              "   CustomerID  Gender   Age Group  Age  Salary  Spending Score (1-100)\n",
              "0           1    Male        Teen   19      15                      39\n",
              "1           2    Male  Middle Age   21      15                      81\n",
              "2           3  Female  Middle Age   20      16                       6\n",
              "3           4  Female  Middle Age   23      16                      77\n",
              "4           5  Female  Middle Age   31      17                      40"
            ]
          },
          "execution_count": 92,
          "metadata": {},
          "output_type": "execute_result"
        }
      ],
      "source": [
        "df3.head()"
      ]
    },
    {
      "cell_type": "code",
      "execution_count": null,
      "id": "93e1980c",
      "metadata": {
        "id": "93e1980c",
        "outputId": "84a56d7b-5df4-4784-903e-4b07b1d6b10c"
      },
      "outputs": [
        {
          "data": {
            "text/html": [
              "<div>\n",
              "<style scoped>\n",
              "    .dataframe tbody tr th:only-of-type {\n",
              "        vertical-align: middle;\n",
              "    }\n",
              "\n",
              "    .dataframe tbody tr th {\n",
              "        vertical-align: top;\n",
              "    }\n",
              "\n",
              "    .dataframe thead th {\n",
              "        text-align: right;\n",
              "    }\n",
              "</style>\n",
              "<table border=\"1\" class=\"dataframe\">\n",
              "  <thead>\n",
              "    <tr style=\"text-align: right;\">\n",
              "      <th></th>\n",
              "      <th>CustomerID</th>\n",
              "      <th>Gender</th>\n",
              "      <th>Age Group</th>\n",
              "      <th>Age</th>\n",
              "      <th>Salary</th>\n",
              "      <th>Spending Score (1-100)</th>\n",
              "    </tr>\n",
              "  </thead>\n",
              "  <tbody>\n",
              "    <tr>\n",
              "      <th>0</th>\n",
              "      <td>1</td>\n",
              "      <td>Male</td>\n",
              "      <td>Teen</td>\n",
              "      <td>19</td>\n",
              "      <td>15</td>\n",
              "      <td>39</td>\n",
              "    </tr>\n",
              "    <tr>\n",
              "      <th>1</th>\n",
              "      <td>2</td>\n",
              "      <td>Male</td>\n",
              "      <td>Middle Age</td>\n",
              "      <td>21</td>\n",
              "      <td>15</td>\n",
              "      <td>81</td>\n",
              "    </tr>\n",
              "    <tr>\n",
              "      <th>2</th>\n",
              "      <td>3</td>\n",
              "      <td>Female</td>\n",
              "      <td>Middle Age</td>\n",
              "      <td>20</td>\n",
              "      <td>16</td>\n",
              "      <td>6</td>\n",
              "    </tr>\n",
              "    <tr>\n",
              "      <th>3</th>\n",
              "      <td>4</td>\n",
              "      <td>Female</td>\n",
              "      <td>Middle Age</td>\n",
              "      <td>23</td>\n",
              "      <td>16</td>\n",
              "      <td>77</td>\n",
              "    </tr>\n",
              "    <tr>\n",
              "      <th>4</th>\n",
              "      <td>5</td>\n",
              "      <td>Female</td>\n",
              "      <td>Middle Age</td>\n",
              "      <td>31</td>\n",
              "      <td>17</td>\n",
              "      <td>40</td>\n",
              "    </tr>\n",
              "  </tbody>\n",
              "</table>\n",
              "</div>"
            ],
            "text/plain": [
              "   CustomerID  Gender   Age Group  Age  Salary  Spending Score (1-100)\n",
              "0           1    Male        Teen   19      15                      39\n",
              "1           2    Male  Middle Age   21      15                      81\n",
              "2           3  Female  Middle Age   20      16                       6\n",
              "3           4  Female  Middle Age   23      16                      77\n",
              "4           5  Female  Middle Age   31      17                      40"
            ]
          },
          "execution_count": 93,
          "metadata": {},
          "output_type": "execute_result"
        }
      ],
      "source": [
        "df4.head()"
      ]
    },
    {
      "cell_type": "code",
      "execution_count": null,
      "id": "d5a0ba61",
      "metadata": {
        "id": "d5a0ba61",
        "outputId": "89e29eb7-25d4-45e0-ef4d-e75b29a8cf46"
      },
      "outputs": [
        {
          "data": {
            "text/html": [
              "<div>\n",
              "<style scoped>\n",
              "    .dataframe tbody tr th:only-of-type {\n",
              "        vertical-align: middle;\n",
              "    }\n",
              "\n",
              "    .dataframe tbody tr th {\n",
              "        vertical-align: top;\n",
              "    }\n",
              "\n",
              "    .dataframe thead th {\n",
              "        text-align: right;\n",
              "    }\n",
              "</style>\n",
              "<table border=\"1\" class=\"dataframe\">\n",
              "  <thead>\n",
              "    <tr style=\"text-align: right;\">\n",
              "      <th></th>\n",
              "      <th>CustomerID</th>\n",
              "      <th>Gender</th>\n",
              "      <th>Age Group</th>\n",
              "      <th>Age</th>\n",
              "      <th>Salary</th>\n",
              "      <th>Spending Score (1-100)</th>\n",
              "    </tr>\n",
              "  </thead>\n",
              "  <tbody>\n",
              "    <tr>\n",
              "      <th>0</th>\n",
              "      <td>1</td>\n",
              "      <td>Male</td>\n",
              "      <td>Teen</td>\n",
              "      <td>19</td>\n",
              "      <td>15</td>\n",
              "      <td>39</td>\n",
              "    </tr>\n",
              "    <tr>\n",
              "      <th>1</th>\n",
              "      <td>2</td>\n",
              "      <td>Male</td>\n",
              "      <td>Middle Age</td>\n",
              "      <td>21</td>\n",
              "      <td>15</td>\n",
              "      <td>81</td>\n",
              "    </tr>\n",
              "    <tr>\n",
              "      <th>2</th>\n",
              "      <td>3</td>\n",
              "      <td>Female</td>\n",
              "      <td>Middle Age</td>\n",
              "      <td>20</td>\n",
              "      <td>16</td>\n",
              "      <td>6</td>\n",
              "    </tr>\n",
              "    <tr>\n",
              "      <th>3</th>\n",
              "      <td>4</td>\n",
              "      <td>Female</td>\n",
              "      <td>Middle Age</td>\n",
              "      <td>23</td>\n",
              "      <td>16</td>\n",
              "      <td>77</td>\n",
              "    </tr>\n",
              "    <tr>\n",
              "      <th>4</th>\n",
              "      <td>5</td>\n",
              "      <td>Female</td>\n",
              "      <td>Middle Age</td>\n",
              "      <td>31</td>\n",
              "      <td>17</td>\n",
              "      <td>40</td>\n",
              "    </tr>\n",
              "    <tr>\n",
              "      <th>...</th>\n",
              "      <td>...</td>\n",
              "      <td>...</td>\n",
              "      <td>...</td>\n",
              "      <td>...</td>\n",
              "      <td>...</td>\n",
              "      <td>...</td>\n",
              "    </tr>\n",
              "    <tr>\n",
              "      <th>195</th>\n",
              "      <td>196</td>\n",
              "      <td>Female</td>\n",
              "      <td>Middle Age</td>\n",
              "      <td>35</td>\n",
              "      <td>120</td>\n",
              "      <td>79</td>\n",
              "    </tr>\n",
              "    <tr>\n",
              "      <th>196</th>\n",
              "      <td>197</td>\n",
              "      <td>Female</td>\n",
              "      <td>Elder</td>\n",
              "      <td>45</td>\n",
              "      <td>126</td>\n",
              "      <td>28</td>\n",
              "    </tr>\n",
              "    <tr>\n",
              "      <th>197</th>\n",
              "      <td>198</td>\n",
              "      <td>Male</td>\n",
              "      <td>Middle Age</td>\n",
              "      <td>32</td>\n",
              "      <td>126</td>\n",
              "      <td>74</td>\n",
              "    </tr>\n",
              "    <tr>\n",
              "      <th>198</th>\n",
              "      <td>199</td>\n",
              "      <td>Male</td>\n",
              "      <td>Middle Age</td>\n",
              "      <td>32</td>\n",
              "      <td>137</td>\n",
              "      <td>18</td>\n",
              "    </tr>\n",
              "    <tr>\n",
              "      <th>199</th>\n",
              "      <td>200</td>\n",
              "      <td>Male</td>\n",
              "      <td>Middle Age</td>\n",
              "      <td>30</td>\n",
              "      <td>137</td>\n",
              "      <td>83</td>\n",
              "    </tr>\n",
              "  </tbody>\n",
              "</table>\n",
              "<p>200 rows × 6 columns</p>\n",
              "</div>"
            ],
            "text/plain": [
              "     CustomerID  Gender   Age Group  Age  Salary  Spending Score (1-100)\n",
              "0             1    Male        Teen   19      15                      39\n",
              "1             2    Male  Middle Age   21      15                      81\n",
              "2             3  Female  Middle Age   20      16                       6\n",
              "3             4  Female  Middle Age   23      16                      77\n",
              "4             5  Female  Middle Age   31      17                      40\n",
              "..          ...     ...         ...  ...     ...                     ...\n",
              "195         196  Female  Middle Age   35     120                      79\n",
              "196         197  Female       Elder   45     126                      28\n",
              "197         198    Male  Middle Age   32     126                      74\n",
              "198         199    Male  Middle Age   32     137                      18\n",
              "199         200    Male  Middle Age   30     137                      83\n",
              "\n",
              "[200 rows x 6 columns]"
            ]
          },
          "execution_count": 94,
          "metadata": {},
          "output_type": "execute_result"
        }
      ],
      "source": [
        "df.replace(to_replace=np.nan,value=80)"
      ]
    },
    {
      "cell_type": "code",
      "execution_count": null,
      "id": "3c07d865",
      "metadata": {
        "id": "3c07d865",
        "outputId": "f9bab4a7-8987-416b-c8ac-8273c0485201"
      },
      "outputs": [
        {
          "name": "stdout",
          "output_type": "stream",
          "text": [
            "<class 'pandas.core.frame.DataFrame'>\n",
            "RangeIndex: 200 entries, 0 to 199\n",
            "Data columns (total 6 columns):\n",
            " #   Column                  Non-Null Count  Dtype \n",
            "---  ------                  --------------  ----- \n",
            " 0   CustomerID              200 non-null    int64 \n",
            " 1   Gender                  200 non-null    object\n",
            " 2   Age Group               200 non-null    object\n",
            " 3   Age                     200 non-null    int64 \n",
            " 4   Salary                  200 non-null    int64 \n",
            " 5   Spending Score (1-100)  200 non-null    int64 \n",
            "dtypes: int64(4), object(2)\n",
            "memory usage: 9.5+ KB\n"
          ]
        }
      ],
      "source": [
        "df.info()"
      ]
    },
    {
      "cell_type": "code",
      "execution_count": null,
      "id": "fbbe0a22",
      "metadata": {
        "id": "fbbe0a22",
        "outputId": "58c5c531-95f1-4c11-9a2e-a0f66e72e418"
      },
      "outputs": [
        {
          "name": "stdout",
          "output_type": "stream",
          "text": [
            "(200, 6)\n"
          ]
        }
      ],
      "source": [
        "print(df.shape)"
      ]
    },
    {
      "cell_type": "code",
      "execution_count": null,
      "id": "e796e277",
      "metadata": {
        "id": "e796e277",
        "outputId": "e62bcdc6-f15e-42b6-a678-74fc5c1b10aa"
      },
      "outputs": [
        {
          "name": "stdout",
          "output_type": "stream",
          "text": [
            "    CustomerID  Gender   Age Group  Age  Salary  Spending Score (1-100)\n",
            "0            1    Male        Teen   19      15                      39\n",
            "1            2    Male  Middle Age   21      15                      81\n",
            "2            3  Female  Middle Age   20      16                       6\n",
            "3            4  Female  Middle Age   23      16                      77\n",
            "4            5  Female  Middle Age   31      17                      40\n",
            "5            6  Female  Middle Age   22      17                      76\n",
            "6            7  Female  Middle Age   35      18                       6\n",
            "7            8  Female  Middle Age   23      18                      94\n",
            "8            9    Male       Elder   64      19                       3\n",
            "9           10  Female  Middle Age   30      19                      72\n",
            "10          11    Male       Elder   67      19                      14\n",
            "11          12  Female  Middle Age   35      19                      99\n",
            "12          13  Female       Elder   58      20                      15\n",
            "13          14  Female  Middle Age   24      20                      77\n",
            "14          15    Male  Middle Age   37      20                      13\n",
            "15          16    Male  Middle Age   22      20                      79\n",
            "16          17  Female  Middle Age   35      21                      35\n",
            "17          18    Male  Middle Age   20      21                      66\n",
            "18          19    Male       Elder   52      23                      29\n",
            "19          20  Female  Middle Age   35      23                      98\n"
          ]
        }
      ],
      "source": [
        "print(df.head(20))"
      ]
    },
    {
      "cell_type": "code",
      "execution_count": null,
      "id": "656589f5",
      "metadata": {
        "id": "656589f5",
        "outputId": "d24a4872-2f31-40c7-f6b7-9e9461ebc6ee"
      },
      "outputs": [
        {
          "data": {
            "text/plain": [
              "Middle Age    0.52\n",
              "Elder         0.42\n",
              "Teen          0.06\n",
              "Name: Age Group, dtype: float64"
            ]
          },
          "execution_count": 98,
          "metadata": {},
          "output_type": "execute_result"
        }
      ],
      "source": [
        "df['Age Group'].value_counts(normalize=True)"
      ]
    },
    {
      "cell_type": "code",
      "execution_count": null,
      "id": "71877d43",
      "metadata": {
        "id": "71877d43",
        "outputId": "4f5561c7-09ec-458d-98ff-55507a31188e"
      },
      "outputs": [
        {
          "data": {
            "text/plain": [
              "1      0.005\n",
              "138    0.005\n",
              "128    0.005\n",
              "129    0.005\n",
              "130    0.005\n",
              "       ...  \n",
              "70     0.005\n",
              "71     0.005\n",
              "72     0.005\n",
              "73     0.005\n",
              "200    0.005\n",
              "Name: CustomerID, Length: 200, dtype: float64"
            ]
          },
          "execution_count": 99,
          "metadata": {},
          "output_type": "execute_result"
        }
      ],
      "source": [
        "df['CustomerID'].value_counts(normalize=True)"
      ]
    },
    {
      "cell_type": "code",
      "execution_count": null,
      "id": "738abec1",
      "metadata": {
        "id": "738abec1",
        "outputId": "e0beba11-9360-42ea-ada1-d748363b48f5"
      },
      "outputs": [
        {
          "data": {
            "text/plain": [
              "Female    0.56\n",
              "Male      0.44\n",
              "Name: Gender, dtype: float64"
            ]
          },
          "execution_count": 100,
          "metadata": {},
          "output_type": "execute_result"
        }
      ],
      "source": [
        "df['Gender'].value_counts(normalize=True)"
      ]
    },
    {
      "cell_type": "code",
      "execution_count": null,
      "id": "b8ad6ee3",
      "metadata": {
        "id": "b8ad6ee3",
        "outputId": "18116f5a-b0a6-4445-f37c-d1a454a8f39f"
      },
      "outputs": [
        {
          "data": {
            "text/plain": [
              "32    0.055\n",
              "35    0.045\n",
              "19    0.040\n",
              "31    0.040\n",
              "30    0.035\n",
              "49    0.035\n",
              "40    0.030\n",
              "38    0.030\n",
              "47    0.030\n",
              "27    0.030\n",
              "36    0.030\n",
              "23    0.030\n",
              "34    0.025\n",
              "20    0.025\n",
              "29    0.025\n",
              "50    0.025\n",
              "48    0.025\n",
              "21    0.025\n",
              "24    0.020\n",
              "18    0.020\n",
              "28    0.020\n",
              "67    0.020\n",
              "59    0.020\n",
              "54    0.020\n",
              "43    0.015\n",
              "60    0.015\n",
              "45    0.015\n",
              "39    0.015\n",
              "33    0.015\n",
              "37    0.015\n",
              "22    0.015\n",
              "25    0.015\n",
              "46    0.015\n",
              "68    0.015\n",
              "52    0.010\n",
              "44    0.010\n",
              "66    0.010\n",
              "57    0.010\n",
              "26    0.010\n",
              "53    0.010\n",
              "42    0.010\n",
              "63    0.010\n",
              "70    0.010\n",
              "51    0.010\n",
              "58    0.010\n",
              "65    0.010\n",
              "41    0.010\n",
              "55    0.005\n",
              "69    0.005\n",
              "64    0.005\n",
              "56    0.005\n",
              "Name: Age, dtype: float64"
            ]
          },
          "execution_count": 101,
          "metadata": {},
          "output_type": "execute_result"
        }
      ],
      "source": [
        "df['Age'].value_counts(normalize=True)"
      ]
    },
    {
      "cell_type": "code",
      "execution_count": null,
      "id": "2dd5a141",
      "metadata": {
        "id": "2dd5a141",
        "outputId": "6661acf0-03b4-4d6d-8ad0-b3e21ad7b88c"
      },
      "outputs": [
        {
          "data": {
            "text/plain": [
              "54     0.06\n",
              "78     0.06\n",
              "48     0.03\n",
              "71     0.03\n",
              "63     0.03\n",
              "       ... \n",
              "58     0.01\n",
              "59     0.01\n",
              "16     0.01\n",
              "64     0.01\n",
              "137    0.01\n",
              "Name: Salary, Length: 64, dtype: float64"
            ]
          },
          "execution_count": 102,
          "metadata": {},
          "output_type": "execute_result"
        }
      ],
      "source": [
        "df['Salary'].value_counts(normalize=True)"
      ]
    },
    {
      "cell_type": "code",
      "execution_count": null,
      "id": "9b27978c",
      "metadata": {
        "id": "9b27978c",
        "outputId": "5d608b97-f39a-41b8-9043-dad34a1ffde6"
      },
      "outputs": [
        {
          "data": {
            "text/plain": [
              "42    0.040\n",
              "55    0.035\n",
              "46    0.030\n",
              "73    0.030\n",
              "35    0.025\n",
              "      ...  \n",
              "31    0.005\n",
              "44    0.005\n",
              "53    0.005\n",
              "65    0.005\n",
              "18    0.005\n",
              "Name: Spending Score (1-100), Length: 84, dtype: float64"
            ]
          },
          "execution_count": 103,
          "metadata": {},
          "output_type": "execute_result"
        }
      ],
      "source": [
        "df['Spending Score (1-100)'].value_counts(normalize=True)"
      ]
    },
    {
      "cell_type": "code",
      "execution_count": null,
      "id": "2cf26351",
      "metadata": {
        "id": "2cf26351",
        "outputId": "e4c97413-83e1-42bf-b2e9-f7fefebec351"
      },
      "outputs": [
        {
          "data": {
            "text/html": [
              "<div>\n",
              "<style scoped>\n",
              "    .dataframe tbody tr th:only-of-type {\n",
              "        vertical-align: middle;\n",
              "    }\n",
              "\n",
              "    .dataframe tbody tr th {\n",
              "        vertical-align: top;\n",
              "    }\n",
              "\n",
              "    .dataframe thead th {\n",
              "        text-align: right;\n",
              "    }\n",
              "</style>\n",
              "<table border=\"1\" class=\"dataframe\">\n",
              "  <thead>\n",
              "    <tr style=\"text-align: right;\">\n",
              "      <th></th>\n",
              "      <th>Gender</th>\n",
              "      <th>Age</th>\n",
              "      <th>Salary</th>\n",
              "    </tr>\n",
              "  </thead>\n",
              "  <tbody>\n",
              "    <tr>\n",
              "      <th>0</th>\n",
              "      <td>Male</td>\n",
              "      <td>19</td>\n",
              "      <td>15</td>\n",
              "    </tr>\n",
              "    <tr>\n",
              "      <th>1</th>\n",
              "      <td>Female</td>\n",
              "      <td>22</td>\n",
              "      <td>17</td>\n",
              "    </tr>\n",
              "    <tr>\n",
              "      <th>2</th>\n",
              "      <td>Female</td>\n",
              "      <td>35</td>\n",
              "      <td>21</td>\n",
              "    </tr>\n",
              "  </tbody>\n",
              "</table>\n",
              "</div>"
            ],
            "text/plain": [
              "   Gender  Age  Salary\n",
              "0    Male   19      15\n",
              "1  Female   22      17\n",
              "2  Female   35      21"
            ]
          },
          "execution_count": 104,
          "metadata": {},
          "output_type": "execute_result"
        }
      ],
      "source": [
        "df = pd.DataFrame([['Male', 19, 15],\n",
        "                  ['Female', 22, 17],\n",
        "                  ['Female', 35, 21]])\n",
        "df.columns = ['Gender','Age','Salary']\n",
        "df.head()"
      ]
    }
  ],
  "metadata": {
    "kernelspec": {
      "display_name": "Python 3 (ipykernel)",
      "language": "python",
      "name": "python3"
    },
    "language_info": {
      "codemirror_mode": {
        "name": "ipython",
        "version": 3
      },
      "file_extension": ".py",
      "mimetype": "text/x-python",
      "name": "python",
      "nbconvert_exporter": "python",
      "pygments_lexer": "ipython3",
      "version": "3.9.13"
    },
    "colab": {
      "provenance": [],
      "include_colab_link": true
    }
  },
  "nbformat": 4,
  "nbformat_minor": 5
}